{
 "cells": [
  {
   "cell_type": "code",
   "execution_count": null,
   "id": "628fdeca",
   "metadata": {
    "vscode": {
     "languageId": "plaintext"
    }
   },
   "outputs": [],
   "source": [
    "!pip uninstall -y bigframes tensorflow protobuf google-cloud-bigquery google-auth requests -q\n",
    "!pip install pathway==0.24.1 protobuf==5.29.1 google-cloud-bigquery==3.29.0 google-auth==2.38.0 requests==2.32.3 bokeh pandas numpy --quiet"
   ]
  },
  {
   "cell_type": "code",
   "execution_count": null,
   "id": "aa06eb97",
   "metadata": {
    "vscode": {
     "languageId": "plaintext"
    }
   },
   "outputs": [],
   "source": [
    "import pandas as pd\n",
    "import numpy as np\n",
    "import pathway as pw\n",
    "from datetime import datetime\n",
    "from math import radians, sin, cos, sqrt, atan2\n",
    "from bokeh.plotting import figure, show, output_notebook\n",
    "from bokeh.models import ColumnDataSource\n",
    "from bokeh.layouts import column\n",
    "import time\n",
    "output_notebook()"
   ]
  },
  {
   "cell_type": "code",
   "execution_count": null,
   "id": "a0be8259",
   "metadata": {
    "vscode": {
     "languageId": "plaintext"
    }
   },
   "outputs": [],
   "source": [
    "def haversine(lat1, lon1, lat2, lon2):\n",
    "    R = 6371\n",
    "    dlat = radians(lat2 - lat1)\n",
    "    dlon = radians(lon2 - lon1)\n",
    "    a = sin(dlat / 2)**2 + cos(radians(lat1)) * cos(radians(lat2)) * sin(dlon / 2)**2\n",
    "    c = 2 * atan2(sqrt(a), sqrt(1 - a))\n",
    "    return R * c"
   ]
  },
  {
   "cell_type": "code",
   "execution_count": null,
   "id": "acda6682",
   "metadata": {
    "vscode": {
     "languageId": "plaintext"
    }
   },
   "outputs": [],
   "source": [
    "class Lot(pw.Schema):\n",
    "    timestamp: pw.DateTimeUtc\n",
    "    parking_lot_id: str\n",
    "    latitude: float\n",
    "    longitude: float\n",
    "    capacity: int\n",
    "    occupancy: int\n",
    "    queue_length: int\n",
    "    vehicle_type: str\n",
    "    traffic_level: float\n",
    "    is_special_day: int"
   ]
  },
  {
   "cell_type": "code",
   "execution_count": null,
   "id": "43c4adbf",
   "metadata": {
    "vscode": {
     "languageId": "plaintext"
    }
   },
   "outputs": [],
   "source": [
    "data = pw.io.csv.read(\n",
    "    \"dataset.csv\",\n",
    "    schema=Lot,\n",
    "    mode=\"static\"  \n",
    ")"
   ]
  },
  {
   "cell_type": "code",
   "execution_count": null,
   "id": "ad709b5b",
   "metadata": {
    "vscode": {
     "languageId": "plaintext"
    }
   },
   "outputs": [],
   "source": [
    "@pw.udf\n",
    "def model1_baseline_price(base_price, occupancy, capacity):\n",
    "    return round(base_price + 2.0 * (occupancy / capacity), 2)\n",
    "\n",
    "@pw.udf\n",
    "def model2_demand_based_price(occupancy, capacity, queue, traffic, special, vehicle):\n",
    "    weights = {\"alpha\": 1.5, \"beta\": 0.2, \"gamma\": 0.5, \"delta\": 2.0, \"epsilon\": 1.0}\n",
    "    vehicle_map = {\"car\": 1.0, \"bike\": 0.5, \"truck\": 1.5}\n",
    "    vweight = vehicle_map.get(vehicle, 1.0)\n",
    "    demand = (\n",
    "        weights[\"alpha\"] * (occupancy / capacity) +\n",
    "        weights[\"beta\"] * queue -\n",
    "        weights[\"gamma\"] * traffic +\n",
    "        weights[\"delta\"] * special +\n",
    "        weights[\"epsilon\"] * vweight\n",
    "    )\n",
    "    price = 10.0 * (1 + 0.3 * min(1.0, max(0.0, demand / 10)))\n",
    "    return round(min(max(price, 5), 20), 2)"
   ]
  },
  {
   "cell_type": "code",
   "execution_count": null,
   "id": "e619d5da",
   "metadata": {
    "vscode": {
     "languageId": "plaintext"
    }
   },
   "outputs": [],
   "source": [
    "base_prices = data.select(\n",
    "    parking_lot_id=pw.this.parking_lot_id,\n",
    "    latitude=pw.this.latitude,\n",
    "    longitude=pw.this.longitude,\n",
    "    occupancy=pw.this.occupancy,\n",
    "    capacity=pw.this.capacity,\n",
    "    queue=pw.this.queue_length,\n",
    "    traffic=pw.this.traffic_level,\n",
    "    special=pw.this.is_special_day,\n",
    "    vehicle=pw.this.vehicle_type,\n",
    "    price_model2=model2_demand_based_price(\n",
    "        pw.this.occupancy,\n",
    "        pw.this.capacity,\n",
    "        pw.this.queue_length,\n",
    "        pw.this.traffic_level,\n",
    "        pw.this.is_special_day,\n",
    "        pw.this.vehicle_type,\n",
    "    )\n",
    ")"
   ]
  },
  {
   "cell_type": "code",
   "execution_count": null,
   "id": "414e39f6",
   "metadata": {
    "vscode": {
     "languageId": "plaintext"
    }
   },
   "outputs": [],
   "source": [
    "competitor = base_prices.select(\n",
    "    parking_lot_id_comp=pw.this.parking_lot_id,\n",
    "    occupancy_comp=pw.this.occupancy,\n",
    "    capacity_comp=pw.this.capacity,\n",
    "    latitude_comp=pw.this.latitude,\n",
    "    longitude_comp=pw.this.longitude,\n",
    "    price_model2_comp=pw.this.price_model2,\n",
    ")\n",
    "\n",
    "\n",
    "joined = base_prices.join(competitor).select(\n",
    "    lot_id=pw.left.parking_lot_id,\n",
    "    occ=pw.left.occupancy,\n",
    "    cap=pw.left.capacity,\n",
    "    lat=pw.left.latitude,\n",
    "    lon=pw.left.longitude,\n",
    "    price=pw.left.price_model2,\n",
    "\n",
    "    id_comp=pw.right.parking_lot_id_comp,\n",
    "    occ_comp=pw.right.occupancy_comp,\n",
    "    cap_comp=pw.right.capacity_comp,\n",
    "    lat_comp=pw.right.latitude_comp,\n",
    "    lon_comp=pw.right.longitude_comp,\n",
    "    price_comp=pw.right.price_model2_comp,\n",
    ")"
   ]
  },
  {
   "cell_type": "code",
   "execution_count": null,
   "id": "70fea11d",
   "metadata": {
    "vscode": {
     "languageId": "plaintext"
    }
   },
   "outputs": [],
   "source": [
    "@pw.udf\n",
    "def adjust_price(occ, cap, price, occ_comp, cap_comp, lat, lon, lat_comp, lon_comp, id, id_comp):\n",
    "    if id == id_comp:\n",
    "        return price\n",
    "    dist = haversine(lat, lon, lat_comp, lon_comp)\n",
    "    if dist > 0.5:\n",
    "        return price\n",
    "    if occ_comp < cap_comp and price > 12:\n",
    "        return round(max(price - 1.0, 5.0), 2)\n",
    "    if occ_comp >= cap_comp:\n",
    "        return round(min(price + 0.5, 20.0), 2)\n",
    "    return price\n",
    "\n",
    "competitive_prices = joined.select(\n",
    "    parking_lot_id=pw.this.id,\n",
    "    price_model3=adjust_price(\n",
    "        pw.this.occ,\n",
    "        pw.this.cap,\n",
    "        pw.this.price,\n",
    "        pw.this.occ_comp,\n",
    "        pw.this.cap_comp,\n",
    "        pw.this.lat,\n",
    "        pw.this.lon,\n",
    "        pw.this.lat_comp,\n",
    "        pw.this.lon_comp,\n",
    "        pw.this.id,\n",
    "        pw.this.id_comp,\n",
    "    )\n",
    ")"
   ]
  },
  {
   "cell_type": "code",
   "execution_count": null,
   "id": "3963a784",
   "metadata": {
    "vscode": {
     "languageId": "plaintext"
    }
   },
   "outputs": [],
   "source": [
    "from pathway.internals import dtype\n",
    "\n",
    "def to_str(val) -> str:\n",
    "    return str(val)\n",
    "\n",
    "competitive_prices_fixed = competitive_prices.select(\n",
    "    parking_lot_id=to_str(competitive_prices.parking_lot_id),\n",
    "    price_model3=competitive_prices.price_model3,\n",
    ")\n",
    "\n",
    "final_prices = data.join(\n",
    "    competitive_prices_fixed,\n",
    "    (pw.left.parking_lot_id == pw.right.parking_lot_id)\n",
    ").select(\n",
    "    timestamp=pw.left.timestamp,\n",
    "    parking_lot_id=pw.left.parking_lot_id,\n",
    "    price_model1=model1_baseline_price(10.0, pw.left.occupancy, pw.left.capacity),\n",
    "    price_model2=model2_demand_based_price(\n",
    "        pw.left.occupancy,\n",
    "        pw.left.capacity,\n",
    "        pw.left.queue_length,\n",
    "        pw.left.traffic_level,\n",
    "        pw.left.is_special_day,\n",
    "        pw.left.vehicle_type,\n",
    "    ),\n",
    "    price_model3=pw.right.price_model3,\n",
    ")\n"
   ]
  },
  {
   "cell_type": "code",
   "execution_count": null,
   "id": "f0b8c9a5",
   "metadata": {
    "vscode": {
     "languageId": "plaintext"
    }
   },
   "outputs": [],
   "source": [
    "from beartype.typing import Iterable\n",
    "\n",
    "def my_udf(values: Iterable[int]) -> float:\n",
    "    return sum(values) / len(values)\n",
    "\n",
    "\n",
    "pw.io.csv.write(final_prices, filename=\"output.csv\")\n",
    "pw.run()\n"
   ]
  },
  {
   "cell_type": "code",
   "execution_count": null,
   "id": "9b6b237c",
   "metadata": {
    "vscode": {
     "languageId": "plaintext"
    }
   },
   "outputs": [],
   "source": [
    "simulated_data = pd.DataFrame({\n",
    "    'timestamp': pd.date_range(start='2024-01-01', periods=50, freq='15T'),\n",
    "    'price_model1': np.random.uniform(10, 15, size=50),\n",
    "    'price_model2': np.random.uniform(10, 17, size=50),\n",
    "    'price_model3': np.random.uniform(10, 20, size=50),\n",
    "})\n",
    "source = ColumnDataSource(simulated_data)\n",
    "p = figure(title=\"Real-Time Pricing Models - Parking Lot A\", x_axis_type='datetime', width=800, height=350)\n",
    "p.line(x='timestamp', y='price_model1', source=source, color='blue', legend_label='Model 1', line_width=2)\n",
    "p.line(x='timestamp', y='price_model2', source=source, color='green', legend_label='Model 2', line_width=2)\n",
    "p.line(x='timestamp', y='price_model3', source=source, color='red', legend_label='Model 3', line_width=2)\n",
    "p.legend.location = \"top_left\"\n",
    "p.xaxis.axis_label = \"Time\"\n",
    "p.yaxis.axis_label = \"Price ($)\"\n",
    "show(p)"
   ]
  }
 ],
 "metadata": {
  "language_info": {
   "name": "python"
  }
 },
 "nbformat": 4,
 "nbformat_minor": 5
}
